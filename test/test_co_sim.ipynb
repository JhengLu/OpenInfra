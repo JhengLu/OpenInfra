{
 "cells": [
  {
   "cell_type": "code",
   "id": "initial_id",
   "metadata": {
    "collapsed": true,
    "ExecuteTime": {
     "end_time": "2025-01-24T18:54:47.041466Z",
     "start_time": "2025-01-24T18:54:47.038258Z"
    }
   },
   "source": [
    "import simulators\n",
    "from simulators.vessim.storage import SimpleBattery\n",
    "\n",
    "vessim_battery = SimpleBattery(capacity=1000, initial_soc=1)\n",
    "print(vessim_battery.min_soc)\n",
    "# unit is Wh\n",
    "\n",
    "print(vessim_battery.capacity)\n",
    "print(vessim_battery.soc())\n",
    "print(vessim_battery.charge_level) "
   ],
   "outputs": [
    {
     "name": "stdout",
     "output_type": "stream",
     "text": [
      "0\n",
      "1000\n",
      "1\n",
      "1000\n"
     ]
    }
   ],
   "execution_count": 16
  },
  {
   "metadata": {
    "ExecuteTime": {
     "end_time": "2025-01-24T18:54:49.556874Z",
     "start_time": "2025-01-24T18:54:49.553791Z"
    }
   },
   "cell_type": "code",
   "source": [
    "# reduce the soc of the battery\n",
    "power = -100\n",
    "duration_second = 3600\n",
    "vessim_battery.update(power=power, duration=duration_second)\n",
    "print(vessim_battery.soc())\n"
   ],
   "id": "aa39ad0e64d1badb",
   "outputs": [
    {
     "name": "stdout",
     "output_type": "stream",
     "text": [
      "0.9\n"
     ]
    }
   ],
   "execution_count": 17
  },
  {
   "metadata": {
    "ExecuteTime": {
     "end_time": "2025-01-24T18:55:12.010757Z",
     "start_time": "2025-01-24T18:55:12.007888Z"
    }
   },
   "cell_type": "code",
   "source": [
    "# increase the soc of the battery\n",
    "power = 50\n",
    "duration_second = 3600\n",
    "vessim_battery.update(power=power, duration=duration_second)\n",
    "print(vessim_battery.soc())\n"
   ],
   "id": "1179c6d49fa89a17",
   "outputs": [
    {
     "name": "stdout",
     "output_type": "stream",
     "text": [
      "0.95\n"
     ]
    }
   ],
   "execution_count": 18
  },
  {
   "metadata": {
    "ExecuteTime": {
     "end_time": "2025-01-24T18:58:08.994549Z",
     "start_time": "2025-01-24T18:58:08.990902Z"
    }
   },
   "cell_type": "code",
   "source": [
    "# use reflection to add attribute for the vessim_battery\n",
    "setattr(vessim_battery, \"battery_control_limit\", 0.1)\n",
    "print(vessim_battery.battery_control_limit)  # Outputs: 100"
   ],
   "id": "234dddb1805459fa",
   "outputs": [
    {
     "name": "stdout",
     "output_type": "stream",
     "text": [
      "0.1\n"
     ]
    }
   ],
   "execution_count": 19
  },
  {
   "metadata": {},
   "cell_type": "markdown",
   "source": "### Carbon Explorer",
   "id": "8b460c13a7e89823"
  },
  {
   "metadata": {
    "ExecuteTime": {
     "end_time": "2025-01-24T20:04:52.542229Z",
     "start_time": "2025-01-24T20:04:52.538344Z"
    }
   },
   "cell_type": "code",
   "source": [
    "from simulators.CarbonExplorer.battery import Battery as CE_Battery_1\n",
    "\n",
    "# unit is MWh\n",
    "carbon_explorer_battery = CE_Battery_1(capacity=1000, current_load=1000)\n",
    "print(carbon_explorer_battery.capacity)\n",
    "print(carbon_explorer_battery.current_load)"
   ],
   "id": "6ef250ee465e04c7",
   "outputs": [
    {
     "name": "stdout",
     "output_type": "stream",
     "text": [
      "1000\n",
      "1000\n"
     ]
    }
   ],
   "execution_count": 27
  },
  {
   "metadata": {
    "ExecuteTime": {
     "end_time": "2025-01-24T20:04:54.419494Z",
     "start_time": "2025-01-24T20:04:54.416063Z"
    }
   },
   "cell_type": "code",
   "source": [
    "# reduce the soc of the battery\n",
    "power = 100\n",
    "# it discharges the battery by using the default the duration, which is one hour\n",
    "carbon_explorer_battery.discharge(power)\n",
    "print(carbon_explorer_battery.current_load)\n",
    "\n"
   ],
   "id": "64a51ecc701c2f61",
   "outputs": [
    {
     "name": "stdout",
     "output_type": "stream",
     "text": [
      "900\n"
     ]
    }
   ],
   "execution_count": 28
  },
  {
   "metadata": {
    "ExecuteTime": {
     "end_time": "2025-01-24T20:05:59.505244Z",
     "start_time": "2025-01-24T20:05:59.501187Z"
    }
   },
   "cell_type": "code",
   "source": [
    "from simulators.CarbonExplorer.battery import Battery2 as CE_Battery_2\n",
    "\n",
    "# unit is MWh\n",
    "carbon_explorer_battery_2 = CE_Battery_2(capacity=1000, current_load=1000)\n",
    "print(carbon_explorer_battery_2.capacity)\n",
    "print(carbon_explorer_battery_2.current_load)"
   ],
   "id": "1bd4d8dc4049f47b",
   "outputs": [
    {
     "name": "stdout",
     "output_type": "stream",
     "text": [
      "1000\n",
      "1000\n"
     ]
    }
   ],
   "execution_count": 30
  },
  {
   "metadata": {
    "ExecuteTime": {
     "end_time": "2025-01-24T20:17:31.246831Z",
     "start_time": "2025-01-24T20:17:31.243462Z"
    }
   },
   "cell_type": "code",
   "source": [
    "# reduce the soc of the battery\n",
    "power = 100\n",
    "duration_hour = 1\n",
    "# it discharges the battery by using the duration, which requires to be provided\n",
    "carbon_explorer_battery_2.discharge(power, T_u=duration_hour)\n",
    "print(carbon_explorer_battery_2.current_load)\n",
    "\n"
   ],
   "id": "a1c6164ec199206c",
   "outputs": [
    {
     "name": "stdout",
     "output_type": "stream",
     "text": [
      "896.0\n"
     ]
    }
   ],
   "execution_count": 32
  },
  {
   "metadata": {
    "ExecuteTime": {
     "end_time": "2025-01-24T20:17:54.580306Z",
     "start_time": "2025-01-24T20:17:54.576906Z"
    }
   },
   "cell_type": "code",
   "source": [
    "# reduce the soc of the battery\n",
    "power = 100\n",
    "duration_hour = 1\n",
    "# it discharges the battery by using the duration, which requires to be provided\n",
    "carbon_explorer_battery_2.charge(power, T_u=duration_hour)\n",
    "print(carbon_explorer_battery_2.current_load)\n",
    "\n"
   ],
   "id": "762761bc58eff783",
   "outputs": [
    {
     "name": "stdout",
     "output_type": "stream",
     "text": [
      "993.0\n"
     ]
    }
   ],
   "execution_count": 33
  },
  {
   "metadata": {
    "ExecuteTime": {
     "end_time": "2025-01-24T20:28:35.877553Z",
     "start_time": "2025-01-24T20:28:35.874277Z"
    }
   },
   "cell_type": "code",
   "source": [
    "from types import MethodType\n",
    "\n",
    "def ce_battery_soc(self):\n",
    "    return self.current_load / self.capacity\n",
    "\n",
    "# Bind the function as an instance method\n",
    "carbon_explorer_battery_2.soc = MethodType(ce_battery_soc, carbon_explorer_battery_2)\n",
    "\n",
    "# Now you can call it\n",
    "print(carbon_explorer_battery_2.soc())  # Should work correctly\n"
   ],
   "id": "915e87614b4c8713",
   "outputs": [
    {
     "name": "stdout",
     "output_type": "stream",
     "text": [
      "0.993\n"
     ]
    }
   ],
   "execution_count": 35
  },
  {
   "metadata": {},
   "cell_type": "markdown",
   "source": "### PyBamm",
   "id": "2a36127a43aab170"
  },
  {
   "metadata": {},
   "cell_type": "code",
   "outputs": [],
   "execution_count": null,
   "source": [
    "import pybamm\n",
    "\n"
   ],
   "id": "227bbe43190a9d51"
  }
 ],
 "metadata": {
  "kernelspec": {
   "display_name": "Python 3",
   "language": "python",
   "name": "python3"
  },
  "language_info": {
   "codemirror_mode": {
    "name": "ipython",
    "version": 2
   },
   "file_extension": ".py",
   "mimetype": "text/x-python",
   "name": "python",
   "nbconvert_exporter": "python",
   "pygments_lexer": "ipython2",
   "version": "2.7.6"
  }
 },
 "nbformat": 4,
 "nbformat_minor": 5
}
