{
 "cells": [
  {
   "cell_type": "code",
   "id": "initial_id",
   "metadata": {
    "collapsed": true,
    "ExecuteTime": {
     "end_time": "2025-01-24T03:33:52.519740Z",
     "start_time": "2025-01-24T03:33:52.515861Z"
    }
   },
   "source": [
    "class Sample:\n",
    "    def __init__(self):\n",
    "        self.value = 42\n",
    "\n",
    "    def greet(self):\n",
    "        return \"Hello, World!\"\n",
    "\n",
    "obj = Sample()\n",
    "\n",
    "# List all attributes and methods\n",
    "print(dir(obj))\n"
   ],
   "outputs": [
    {
     "name": "stdout",
     "output_type": "stream",
     "text": [
      "['__class__', '__delattr__', '__dict__', '__dir__', '__doc__', '__eq__', '__format__', '__ge__', '__getattribute__', '__gt__', '__hash__', '__init__', '__init_subclass__', '__le__', '__lt__', '__module__', '__ne__', '__new__', '__reduce__', '__reduce_ex__', '__repr__', '__setattr__', '__sizeof__', '__str__', '__subclasshook__', '__weakref__', 'greet', 'value']\n"
     ]
    }
   ],
   "execution_count": 6
  },
  {
   "metadata": {
    "ExecuteTime": {
     "end_time": "2025-01-24T03:33:54.180043Z",
     "start_time": "2025-01-24T03:33:54.177106Z"
    }
   },
   "cell_type": "code",
   "source": [
    "attr_name = \"value\"\n",
    "print(getattr(obj, attr_name))  # Outputs: 42\n",
    "print(obj.value) "
   ],
   "id": "b33bee31c3086eaa",
   "outputs": [
    {
     "name": "stdout",
     "output_type": "stream",
     "text": [
      "42\n",
      "42\n"
     ]
    }
   ],
   "execution_count": 7
  },
  {
   "metadata": {
    "ExecuteTime": {
     "end_time": "2025-01-24T03:33:56.260600Z",
     "start_time": "2025-01-24T03:33:56.257348Z"
    }
   },
   "cell_type": "code",
   "source": "print(getattr(obj, \"non_existent\", \"Default Value\"))  # Outputs: Default Value\n",
   "id": "ffa45163a3eedafa",
   "outputs": [
    {
     "name": "stdout",
     "output_type": "stream",
     "text": [
      "Default Value\n"
     ]
    }
   ],
   "execution_count": 8
  },
  {
   "metadata": {
    "ExecuteTime": {
     "end_time": "2025-01-24T03:33:57.089481Z",
     "start_time": "2025-01-24T03:33:57.086046Z"
    }
   },
   "cell_type": "code",
   "source": [
    "setattr(obj, \"value\", 100)\n",
    "print(obj.value)  # Outputs: 100\n"
   ],
   "id": "6100194b3545fa4a",
   "outputs": [
    {
     "name": "stdout",
     "output_type": "stream",
     "text": [
      "100\n"
     ]
    }
   ],
   "execution_count": 9
  },
  {
   "metadata": {
    "ExecuteTime": {
     "end_time": "2025-01-24T03:34:06.604379Z",
     "start_time": "2025-01-24T03:34:06.601496Z"
    }
   },
   "cell_type": "code",
   "source": [
    "setattr(obj, \"new_attr\", \"I am new!\")\n",
    "print(obj.new_attr)  # Outputs: I am new!\n"
   ],
   "id": "a2bc1f3f7a463476",
   "outputs": [
    {
     "name": "stdout",
     "output_type": "stream",
     "text": [
      "I am new!\n"
     ]
    }
   ],
   "execution_count": 10
  },
  {
   "metadata": {
    "ExecuteTime": {
     "end_time": "2025-01-24T03:34:17.946243Z",
     "start_time": "2025-01-24T03:34:17.943351Z"
    }
   },
   "cell_type": "code",
   "source": [
    "print(hasattr(obj, \"value\"))  # Outputs: True\n",
    "print(hasattr(obj, \"non_existent\"))  # Outputs: False\n"
   ],
   "id": "c9c97274d4b94a3e",
   "outputs": [
    {
     "name": "stdout",
     "output_type": "stream",
     "text": [
      "True\n",
      "False\n"
     ]
    }
   ],
   "execution_count": 11
  },
  {
   "metadata": {
    "ExecuteTime": {
     "end_time": "2025-01-24T03:34:33.295929Z",
     "start_time": "2025-01-24T03:34:33.293177Z"
    }
   },
   "cell_type": "code",
   "source": [
    "method_name = \"greet\"\n",
    "if hasattr(obj, method_name):\n",
    "    method = getattr(obj, method_name)\n",
    "    print(method())  # Outputs: Hello, World!\n"
   ],
   "id": "9e4483d315e9d3ff",
   "outputs": [
    {
     "name": "stdout",
     "output_type": "stream",
     "text": [
      "Hello, World!\n"
     ]
    }
   ],
   "execution_count": 12
  },
  {
   "metadata": {
    "ExecuteTime": {
     "end_time": "2025-01-24T03:35:03.634526Z",
     "start_time": "2025-01-24T03:35:03.632085Z"
    }
   },
   "cell_type": "code",
   "source": [
    "import inspect\n",
    "\n",
    "# Get the signature of a method\n",
    "print(inspect.signature(Sample.greet))\n",
    "\n",
    "# Check if an object is a method\n",
    "print(inspect.ismethod(getattr(obj, \"greet\")))\n"
   ],
   "id": "17f4f446b84c2997",
   "outputs": [
    {
     "name": "stdout",
     "output_type": "stream",
     "text": [
      "(self)\n",
      "True\n"
     ]
    }
   ],
   "execution_count": 13
  },
  {
   "metadata": {
    "ExecuteTime": {
     "end_time": "2025-01-24T03:36:15.316110Z",
     "start_time": "2025-01-24T03:36:15.313093Z"
    }
   },
   "cell_type": "code",
   "source": [
    "# List all classes in a module\n",
    "import math\n",
    "print([name for name, obj in inspect.getmembers(math, inspect.isbuiltin)])\n",
    "\n",
    "# Check the class of an instance\n",
    "print(type(obj))  # Outputs: <class '__main__.Sample'>\n",
    "\n",
    "# Get the base classes of a class\n",
    "print(Sample.__bases__)  # Outputs: (<class 'object'>,)\n"
   ],
   "id": "1306d83d7c9cc254",
   "outputs": [
    {
     "name": "stdout",
     "output_type": "stream",
     "text": [
      "['acos', 'acosh', 'asin', 'asinh', 'atan', 'atan2', 'atanh', 'ceil', 'comb', 'copysign', 'cos', 'cosh', 'degrees', 'dist', 'erf', 'erfc', 'exp', 'expm1', 'fabs', 'factorial', 'floor', 'fmod', 'frexp', 'fsum', 'gamma', 'gcd', 'hypot', 'isclose', 'isfinite', 'isinf', 'isnan', 'isqrt', 'lcm', 'ldexp', 'lgamma', 'log', 'log10', 'log1p', 'log2', 'modf', 'nextafter', 'perm', 'pow', 'prod', 'radians', 'remainder', 'sin', 'sinh', 'sqrt', 'tan', 'tanh', 'trunc', 'ulp']\n",
      "<class '__main__.Sample'>\n",
      "(<class 'object'>,)\n"
     ]
    }
   ],
   "execution_count": 14
  },
  {
   "metadata": {
    "ExecuteTime": {
     "end_time": "2025-01-24T03:37:16.477797Z",
     "start_time": "2025-01-24T03:37:16.474998Z"
    }
   },
   "cell_type": "code",
   "source": [
    "def new_method(self):\n",
    "    return \"I am dynamically added!\"\n",
    "\n",
    "setattr(Sample, \"new_method\", new_method)\n",
    "print(obj.new_method())  # Outputs: I am dynamically added!\n"
   ],
   "id": "f84c6998dcff345",
   "outputs": [
    {
     "name": "stdout",
     "output_type": "stream",
     "text": [
      "I am dynamically added!\n"
     ]
    }
   ],
   "execution_count": 15
  },
  {
   "metadata": {},
   "cell_type": "code",
   "outputs": [],
   "execution_count": null,
   "source": "",
   "id": "f846b9d90aa8185e"
  }
 ],
 "metadata": {
  "kernelspec": {
   "display_name": "Python 3",
   "language": "python",
   "name": "python3"
  },
  "language_info": {
   "codemirror_mode": {
    "name": "ipython",
    "version": 2
   },
   "file_extension": ".py",
   "mimetype": "text/x-python",
   "name": "python",
   "nbconvert_exporter": "python",
   "pygments_lexer": "ipython2",
   "version": "2.7.6"
  }
 },
 "nbformat": 4,
 "nbformat_minor": 5
}
